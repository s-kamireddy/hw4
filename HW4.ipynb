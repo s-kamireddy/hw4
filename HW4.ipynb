{
  "nbformat": 4,
  "nbformat_minor": 0,
  "metadata": {
    "colab": {
      "provenance": [],
      "gpuType": "T4",
      "authorship_tag": "ABX9TyM6IGkoeh0bd9HxkM4/kUiB",
      "include_colab_link": true
    },
    "kernelspec": {
      "name": "python3",
      "display_name": "Python 3"
    },
    "language_info": {
      "name": "python"
    },
    "accelerator": "GPU"
  },
  "cells": [
    {
      "cell_type": "markdown",
      "metadata": {
        "id": "view-in-github",
        "colab_type": "text"
      },
      "source": [
        "<a href=\"https://colab.research.google.com/github/s-kamireddy/hw4/blob/main/HW4.ipynb\" target=\"_parent\"><img src=\"https://colab.research.google.com/assets/colab-badge.svg\" alt=\"Open In Colab\"/></a>"
      ]
    },
    {
      "cell_type": "code",
      "execution_count": null,
      "metadata": {
        "id": "qyWK0GATKcJo"
      },
      "outputs": [],
      "source": [
        "import pandas as pd\n",
        "import matplotlib.pyplot as plt\n",
        "import seaborn as sns\n",
        "import numpy as np\n",
        "from sklearn.model_selection import train_test_split\n",
        "from statsmodels.stats.outliers_influence import variance_inflation_factor\n",
        "\n",
        "import torch\n",
        "import torch.nn as nn\n",
        "import torch.optim as optim\n",
        "import warnings\n",
        "warnings.filterwarnings(\"ignore\")"
      ]
    },
    {
      "cell_type": "code",
      "source": [
        "#EDA\n",
        "import kagglehub\n",
        "\n",
        "# Download latest version\n",
        "path = kagglehub.dataset_download(\"lakshmi25npathi/imdb-dataset-of-50k-movie-reviews\")\n",
        "\n",
        "print(\"Path to dataset files:\", path)\n",
        "df = pd.read_csv(path +'/IMDB Dataset.csv')"
      ],
      "metadata": {
        "colab": {
          "base_uri": "https://localhost:8080/"
        },
        "id": "kSsXsGDweQgE",
        "outputId": "03cd2662-7745-4710-8bc0-d8c43486a997"
      },
      "execution_count": null,
      "outputs": [
        {
          "output_type": "stream",
          "name": "stdout",
          "text": [
            "Downloading from https://www.kaggle.com/api/v1/datasets/download/lakshmi25npathi/imdb-dataset-of-50k-movie-reviews?dataset_version_number=1...\n"
          ]
        },
        {
          "output_type": "stream",
          "name": "stderr",
          "text": [
            "100%|██████████| 25.7M/25.7M [00:00<00:00, 67.3MB/s]"
          ]
        },
        {
          "output_type": "stream",
          "name": "stdout",
          "text": [
            "Extracting files...\n"
          ]
        },
        {
          "output_type": "stream",
          "name": "stderr",
          "text": [
            "\n"
          ]
        },
        {
          "output_type": "stream",
          "name": "stdout",
          "text": [
            "Path to dataset files: /root/.cache/kagglehub/datasets/lakshmi25npathi/imdb-dataset-of-50k-movie-reviews/versions/1\n"
          ]
        }
      ]
    },
    {
      "cell_type": "code",
      "source": [
        "df.head()"
      ],
      "metadata": {
        "colab": {
          "base_uri": "https://localhost:8080/",
          "height": 206
        },
        "id": "LinOnsiHeriy",
        "outputId": "e05f68f8-140d-4f4b-be7b-d951d0739559"
      },
      "execution_count": null,
      "outputs": [
        {
          "output_type": "execute_result",
          "data": {
            "text/plain": [
              "                                              review sentiment\n",
              "0  One of the other reviewers has mentioned that ...  positive\n",
              "1  A wonderful little production. <br /><br />The...  positive\n",
              "2  I thought this was a wonderful way to spend ti...  positive\n",
              "3  Basically there's a family where a little boy ...  negative\n",
              "4  Petter Mattei's \"Love in the Time of Money\" is...  positive"
            ],
            "text/html": [
              "\n",
              "  <div id=\"df-af56871e-6f9f-406b-a755-5667906496e4\" class=\"colab-df-container\">\n",
              "    <div>\n",
              "<style scoped>\n",
              "    .dataframe tbody tr th:only-of-type {\n",
              "        vertical-align: middle;\n",
              "    }\n",
              "\n",
              "    .dataframe tbody tr th {\n",
              "        vertical-align: top;\n",
              "    }\n",
              "\n",
              "    .dataframe thead th {\n",
              "        text-align: right;\n",
              "    }\n",
              "</style>\n",
              "<table border=\"1\" class=\"dataframe\">\n",
              "  <thead>\n",
              "    <tr style=\"text-align: right;\">\n",
              "      <th></th>\n",
              "      <th>review</th>\n",
              "      <th>sentiment</th>\n",
              "    </tr>\n",
              "  </thead>\n",
              "  <tbody>\n",
              "    <tr>\n",
              "      <th>0</th>\n",
              "      <td>One of the other reviewers has mentioned that ...</td>\n",
              "      <td>positive</td>\n",
              "    </tr>\n",
              "    <tr>\n",
              "      <th>1</th>\n",
              "      <td>A wonderful little production. &lt;br /&gt;&lt;br /&gt;The...</td>\n",
              "      <td>positive</td>\n",
              "    </tr>\n",
              "    <tr>\n",
              "      <th>2</th>\n",
              "      <td>I thought this was a wonderful way to spend ti...</td>\n",
              "      <td>positive</td>\n",
              "    </tr>\n",
              "    <tr>\n",
              "      <th>3</th>\n",
              "      <td>Basically there's a family where a little boy ...</td>\n",
              "      <td>negative</td>\n",
              "    </tr>\n",
              "    <tr>\n",
              "      <th>4</th>\n",
              "      <td>Petter Mattei's \"Love in the Time of Money\" is...</td>\n",
              "      <td>positive</td>\n",
              "    </tr>\n",
              "  </tbody>\n",
              "</table>\n",
              "</div>\n",
              "    <div class=\"colab-df-buttons\">\n",
              "\n",
              "  <div class=\"colab-df-container\">\n",
              "    <button class=\"colab-df-convert\" onclick=\"convertToInteractive('df-af56871e-6f9f-406b-a755-5667906496e4')\"\n",
              "            title=\"Convert this dataframe to an interactive table.\"\n",
              "            style=\"display:none;\">\n",
              "\n",
              "  <svg xmlns=\"http://www.w3.org/2000/svg\" height=\"24px\" viewBox=\"0 -960 960 960\">\n",
              "    <path d=\"M120-120v-720h720v720H120Zm60-500h600v-160H180v160Zm220 220h160v-160H400v160Zm0 220h160v-160H400v160ZM180-400h160v-160H180v160Zm440 0h160v-160H620v160ZM180-180h160v-160H180v160Zm440 0h160v-160H620v160Z\"/>\n",
              "  </svg>\n",
              "    </button>\n",
              "\n",
              "  <style>\n",
              "    .colab-df-container {\n",
              "      display:flex;\n",
              "      gap: 12px;\n",
              "    }\n",
              "\n",
              "    .colab-df-convert {\n",
              "      background-color: #E8F0FE;\n",
              "      border: none;\n",
              "      border-radius: 50%;\n",
              "      cursor: pointer;\n",
              "      display: none;\n",
              "      fill: #1967D2;\n",
              "      height: 32px;\n",
              "      padding: 0 0 0 0;\n",
              "      width: 32px;\n",
              "    }\n",
              "\n",
              "    .colab-df-convert:hover {\n",
              "      background-color: #E2EBFA;\n",
              "      box-shadow: 0px 1px 2px rgba(60, 64, 67, 0.3), 0px 1px 3px 1px rgba(60, 64, 67, 0.15);\n",
              "      fill: #174EA6;\n",
              "    }\n",
              "\n",
              "    .colab-df-buttons div {\n",
              "      margin-bottom: 4px;\n",
              "    }\n",
              "\n",
              "    [theme=dark] .colab-df-convert {\n",
              "      background-color: #3B4455;\n",
              "      fill: #D2E3FC;\n",
              "    }\n",
              "\n",
              "    [theme=dark] .colab-df-convert:hover {\n",
              "      background-color: #434B5C;\n",
              "      box-shadow: 0px 1px 3px 1px rgba(0, 0, 0, 0.15);\n",
              "      filter: drop-shadow(0px 1px 2px rgba(0, 0, 0, 0.3));\n",
              "      fill: #FFFFFF;\n",
              "    }\n",
              "  </style>\n",
              "\n",
              "    <script>\n",
              "      const buttonEl =\n",
              "        document.querySelector('#df-af56871e-6f9f-406b-a755-5667906496e4 button.colab-df-convert');\n",
              "      buttonEl.style.display =\n",
              "        google.colab.kernel.accessAllowed ? 'block' : 'none';\n",
              "\n",
              "      async function convertToInteractive(key) {\n",
              "        const element = document.querySelector('#df-af56871e-6f9f-406b-a755-5667906496e4');\n",
              "        const dataTable =\n",
              "          await google.colab.kernel.invokeFunction('convertToInteractive',\n",
              "                                                    [key], {});\n",
              "        if (!dataTable) return;\n",
              "\n",
              "        const docLinkHtml = 'Like what you see? Visit the ' +\n",
              "          '<a target=\"_blank\" href=https://colab.research.google.com/notebooks/data_table.ipynb>data table notebook</a>'\n",
              "          + ' to learn more about interactive tables.';\n",
              "        element.innerHTML = '';\n",
              "        dataTable['output_type'] = 'display_data';\n",
              "        await google.colab.output.renderOutput(dataTable, element);\n",
              "        const docLink = document.createElement('div');\n",
              "        docLink.innerHTML = docLinkHtml;\n",
              "        element.appendChild(docLink);\n",
              "      }\n",
              "    </script>\n",
              "  </div>\n",
              "\n",
              "\n",
              "<div id=\"df-20a76e9d-ac97-45d0-9925-79acd0d7336d\">\n",
              "  <button class=\"colab-df-quickchart\" onclick=\"quickchart('df-20a76e9d-ac97-45d0-9925-79acd0d7336d')\"\n",
              "            title=\"Suggest charts\"\n",
              "            style=\"display:none;\">\n",
              "\n",
              "<svg xmlns=\"http://www.w3.org/2000/svg\" height=\"24px\"viewBox=\"0 0 24 24\"\n",
              "     width=\"24px\">\n",
              "    <g>\n",
              "        <path d=\"M19 3H5c-1.1 0-2 .9-2 2v14c0 1.1.9 2 2 2h14c1.1 0 2-.9 2-2V5c0-1.1-.9-2-2-2zM9 17H7v-7h2v7zm4 0h-2V7h2v10zm4 0h-2v-4h2v4z\"/>\n",
              "    </g>\n",
              "</svg>\n",
              "  </button>\n",
              "\n",
              "<style>\n",
              "  .colab-df-quickchart {\n",
              "      --bg-color: #E8F0FE;\n",
              "      --fill-color: #1967D2;\n",
              "      --hover-bg-color: #E2EBFA;\n",
              "      --hover-fill-color: #174EA6;\n",
              "      --disabled-fill-color: #AAA;\n",
              "      --disabled-bg-color: #DDD;\n",
              "  }\n",
              "\n",
              "  [theme=dark] .colab-df-quickchart {\n",
              "      --bg-color: #3B4455;\n",
              "      --fill-color: #D2E3FC;\n",
              "      --hover-bg-color: #434B5C;\n",
              "      --hover-fill-color: #FFFFFF;\n",
              "      --disabled-bg-color: #3B4455;\n",
              "      --disabled-fill-color: #666;\n",
              "  }\n",
              "\n",
              "  .colab-df-quickchart {\n",
              "    background-color: var(--bg-color);\n",
              "    border: none;\n",
              "    border-radius: 50%;\n",
              "    cursor: pointer;\n",
              "    display: none;\n",
              "    fill: var(--fill-color);\n",
              "    height: 32px;\n",
              "    padding: 0;\n",
              "    width: 32px;\n",
              "  }\n",
              "\n",
              "  .colab-df-quickchart:hover {\n",
              "    background-color: var(--hover-bg-color);\n",
              "    box-shadow: 0 1px 2px rgba(60, 64, 67, 0.3), 0 1px 3px 1px rgba(60, 64, 67, 0.15);\n",
              "    fill: var(--button-hover-fill-color);\n",
              "  }\n",
              "\n",
              "  .colab-df-quickchart-complete:disabled,\n",
              "  .colab-df-quickchart-complete:disabled:hover {\n",
              "    background-color: var(--disabled-bg-color);\n",
              "    fill: var(--disabled-fill-color);\n",
              "    box-shadow: none;\n",
              "  }\n",
              "\n",
              "  .colab-df-spinner {\n",
              "    border: 2px solid var(--fill-color);\n",
              "    border-color: transparent;\n",
              "    border-bottom-color: var(--fill-color);\n",
              "    animation:\n",
              "      spin 1s steps(1) infinite;\n",
              "  }\n",
              "\n",
              "  @keyframes spin {\n",
              "    0% {\n",
              "      border-color: transparent;\n",
              "      border-bottom-color: var(--fill-color);\n",
              "      border-left-color: var(--fill-color);\n",
              "    }\n",
              "    20% {\n",
              "      border-color: transparent;\n",
              "      border-left-color: var(--fill-color);\n",
              "      border-top-color: var(--fill-color);\n",
              "    }\n",
              "    30% {\n",
              "      border-color: transparent;\n",
              "      border-left-color: var(--fill-color);\n",
              "      border-top-color: var(--fill-color);\n",
              "      border-right-color: var(--fill-color);\n",
              "    }\n",
              "    40% {\n",
              "      border-color: transparent;\n",
              "      border-right-color: var(--fill-color);\n",
              "      border-top-color: var(--fill-color);\n",
              "    }\n",
              "    60% {\n",
              "      border-color: transparent;\n",
              "      border-right-color: var(--fill-color);\n",
              "    }\n",
              "    80% {\n",
              "      border-color: transparent;\n",
              "      border-right-color: var(--fill-color);\n",
              "      border-bottom-color: var(--fill-color);\n",
              "    }\n",
              "    90% {\n",
              "      border-color: transparent;\n",
              "      border-bottom-color: var(--fill-color);\n",
              "    }\n",
              "  }\n",
              "</style>\n",
              "\n",
              "  <script>\n",
              "    async function quickchart(key) {\n",
              "      const quickchartButtonEl =\n",
              "        document.querySelector('#' + key + ' button');\n",
              "      quickchartButtonEl.disabled = true;  // To prevent multiple clicks.\n",
              "      quickchartButtonEl.classList.add('colab-df-spinner');\n",
              "      try {\n",
              "        const charts = await google.colab.kernel.invokeFunction(\n",
              "            'suggestCharts', [key], {});\n",
              "      } catch (error) {\n",
              "        console.error('Error during call to suggestCharts:', error);\n",
              "      }\n",
              "      quickchartButtonEl.classList.remove('colab-df-spinner');\n",
              "      quickchartButtonEl.classList.add('colab-df-quickchart-complete');\n",
              "    }\n",
              "    (() => {\n",
              "      let quickchartButtonEl =\n",
              "        document.querySelector('#df-20a76e9d-ac97-45d0-9925-79acd0d7336d button');\n",
              "      quickchartButtonEl.style.display =\n",
              "        google.colab.kernel.accessAllowed ? 'block' : 'none';\n",
              "    })();\n",
              "  </script>\n",
              "</div>\n",
              "\n",
              "    </div>\n",
              "  </div>\n"
            ],
            "application/vnd.google.colaboratory.intrinsic+json": {
              "type": "dataframe",
              "variable_name": "df",
              "summary": "{\n  \"name\": \"df\",\n  \"rows\": 50000,\n  \"fields\": [\n    {\n      \"column\": \"review\",\n      \"properties\": {\n        \"dtype\": \"string\",\n        \"num_unique_values\": 49582,\n        \"samples\": [\n          \"\\\"Soul Plane\\\" is a horrible attempt at comedy that only should appeal people with thick skulls, bloodshot eyes and furry pawns. <br /><br />The plot is not only incoherent but also non-existent, acting is mostly sub sub-par with a gang of highly moronic and dreadful characters thrown in for bad measure, jokes are often spotted miles ahead and almost never even a bit amusing. This movie lacks any structure and is full of racial stereotypes that must have seemed old even in the fifties, the only thing it really has going for it is some pretty ladies, but really, if you want that you can rent something from the \\\"Adult\\\" section. OK?<br /><br />I can hardly see anything here to recommend since you'll probably have a lot a better and productive time chasing rats with a sledgehammer or inventing waterproof teabags or whatever.<br /><br />2/10\",\n          \"Guest from the Future tells a fascinating story of time travel, friendship, battle of good and evil -- all with a small budget, child actors, and few special effects. Something for Spielberg and Lucas to learn from. ;) A sixth-grader Kolya \\\"Nick\\\" Gerasimov finds a time machine in the basement of a decrepit building and travels 100 years into the future. He discovers a near-perfect, utopian society where robots play guitars and write poetry, everyone is kind to each other and people enjoy everything technology has to offer. Alice is the daughter of a prominent scientist who invented a device called Mielophone that allows to read minds of humans and animals. The device can be put to both good and bad use, depending on whose hands it falls into. When two evil space pirates from Saturn who want to rule the universe attempt to steal Mielophone, it falls into the hands of 20th century school boy Nick. With the pirates hot on his tracks, he travels back to his time, followed by the pirates, and Alice. Chaos, confusion and funny situations follow as the luckless pirates try to blend in with the earthlings. Alice enrolls in the same school Nick goes to and demonstrates superhuman abilities in PE class. The catch is, Alice doesn't know what Nick looks like, while the pirates do. Also, the pirates are able to change their appearance and turn literally into anyone. (Hmm, I wonder if this is where James Cameron got the idea for Terminator...) Who gets to Nick -- and Mielophone -- first? Excellent plot, non-stop adventures, and great soundtrack. I wish Hollywood made kid movies like this one...\",\n          \"\\\"National Treasure\\\" (2004) is a thoroughly misguided hodge-podge of plot entanglements that borrow from nearly every cloak and dagger government conspiracy clich\\u00e9 that has ever been written. The film stars Nicholas Cage as Benjamin Franklin Gates (how precious is that, I ask you?); a seemingly normal fellow who, for no other reason than being of a lineage of like-minded misguided fortune hunters, decides to steal a 'national treasure' that has been hidden by the United States founding fathers. After a bit of subtext and background that plays laughably (unintentionally) like Indiana Jones meets The Patriot, the film degenerates into one misguided whimsy after another \\u0096 attempting to create a 'Stanley Goodspeed' regurgitation of Nicholas Cage and launch the whole convoluted mess forward with a series of high octane, but disconnected misadventures.<br /><br />The relevancy and logic to having George Washington and his motley crew of patriots burying a king's ransom someplace on native soil, and then, going through the meticulous plan of leaving clues scattered throughout U.S. currency art work, is something that director Jon Turteltaub never quite gets around to explaining. Couldn't Washington found better usage for such wealth during the start up of the country? Hence, we are left with a mystery built on top of an enigma that is already on shaky ground by the time Ben appoints himself the new custodian of this untold wealth. Ben's intentions are noble \\u0096 if confusing. He's set on protecting the treasure. For who and when?\\u0085your guess is as good as mine.<br /><br />But there are a few problems with Ben's crusade. First up, his friend, Ian Holmes (Sean Bean) decides that he can't wait for Ben to make up his mind about stealing the Declaration of Independence from the National Archives (oh, yeah \\u0096 brilliant idea!). Presumably, the back of that famous document holds the secret answer to the ultimate fortune. So Ian tries to kill Ben. The assassination attempt is, of course, unsuccessful, if overly melodramatic. It also affords Ben the opportunity to pick up, and pick on, the very sultry curator of the archives, Abigail Chase (Diane Kruger). She thinks Ben is clearly a nut \\u0096 at least at the beginning. But true to action/romance form, Abby's resolve melts quicker than you can say, \\\"is that the Hope Diamond?\\\" The film moves into full X-File-ish mode, as the FBI, mistakenly believing that Ben is behind the theft, retaliate in various benign ways that lead to a multi-layering of action sequences reminiscent of Mission Impossible meets The Fugitive. Honestly, don't those guys ever get 'intelligence' information that is correct? In the final analysis, \\\"National Treasure\\\" isn't great film making, so much as it's a patchwork rehash of tired old bits from other movies, woven together from scraps, the likes of which would make IL' Betsy Ross blush.<br /><br />The Buena Vista DVD delivers a far more generous treatment than this film is deserving of. The anamorphic widescreen picture exhibits a very smooth and finely detailed image with very rich colors, natural flesh tones, solid blacks and clean whites. The stylized image is also free of blemishes and digital enhancements. The audio is 5.1 and delivers a nice sonic boom to your side and rear speakers with intensity and realism. Extras include a host of promotional junket material that is rather deep and over the top in its explanation of how and why this film was made. If only, as an audience, we had had more clarification as to why Ben and co. were chasing after an illusive treasure, this might have been one good flick. Extras conclude with the theatrical trailer, audio commentary and deleted scenes. Not for the faint-hearted \\u0096 just the thick-headed.\"\n        ],\n        \"semantic_type\": \"\",\n        \"description\": \"\"\n      }\n    },\n    {\n      \"column\": \"sentiment\",\n      \"properties\": {\n        \"dtype\": \"category\",\n        \"num_unique_values\": 2,\n        \"samples\": [\n          \"negative\",\n          \"positive\"\n        ],\n        \"semantic_type\": \"\",\n        \"description\": \"\"\n      }\n    }\n  ]\n}"
            }
          },
          "metadata": {},
          "execution_count": 3
        }
      ]
    },
    {
      "cell_type": "code",
      "source": [
        "df.shape\n",
        "df.isna().sum()"
      ],
      "metadata": {
        "colab": {
          "base_uri": "https://localhost:8080/",
          "height": 146
        },
        "id": "TjPYzyu4exX_",
        "outputId": "f2394af3-c46d-47da-ae93-22b2d6ed3172"
      },
      "execution_count": null,
      "outputs": [
        {
          "output_type": "execute_result",
          "data": {
            "text/plain": [
              "review       0\n",
              "sentiment    0\n",
              "dtype: int64"
            ],
            "text/html": [
              "<div>\n",
              "<style scoped>\n",
              "    .dataframe tbody tr th:only-of-type {\n",
              "        vertical-align: middle;\n",
              "    }\n",
              "\n",
              "    .dataframe tbody tr th {\n",
              "        vertical-align: top;\n",
              "    }\n",
              "\n",
              "    .dataframe thead th {\n",
              "        text-align: right;\n",
              "    }\n",
              "</style>\n",
              "<table border=\"1\" class=\"dataframe\">\n",
              "  <thead>\n",
              "    <tr style=\"text-align: right;\">\n",
              "      <th></th>\n",
              "      <th>0</th>\n",
              "    </tr>\n",
              "  </thead>\n",
              "  <tbody>\n",
              "    <tr>\n",
              "      <th>review</th>\n",
              "      <td>0</td>\n",
              "    </tr>\n",
              "    <tr>\n",
              "      <th>sentiment</th>\n",
              "      <td>0</td>\n",
              "    </tr>\n",
              "  </tbody>\n",
              "</table>\n",
              "</div><br><label><b>dtype:</b> int64</label>"
            ]
          },
          "metadata": {},
          "execution_count": 4
        }
      ]
    },
    {
      "cell_type": "code",
      "source": [
        "df.info()"
      ],
      "metadata": {
        "colab": {
          "base_uri": "https://localhost:8080/"
        },
        "id": "Wjzp1wlIe48g",
        "outputId": "9a91801d-fed8-4dcc-a31b-3290ca3159dd"
      },
      "execution_count": null,
      "outputs": [
        {
          "output_type": "stream",
          "name": "stdout",
          "text": [
            "<class 'pandas.core.frame.DataFrame'>\n",
            "RangeIndex: 50000 entries, 0 to 49999\n",
            "Data columns (total 2 columns):\n",
            " #   Column     Non-Null Count  Dtype \n",
            "---  ------     --------------  ----- \n",
            " 0   review     50000 non-null  object\n",
            " 1   sentiment  50000 non-null  object\n",
            "dtypes: object(2)\n",
            "memory usage: 781.4+ KB\n"
          ]
        }
      ]
    },
    {
      "cell_type": "markdown",
      "source": [
        "Perform some preprocessing"
      ],
      "metadata": {
        "id": "VDVyV_SzCj2e"
      }
    },
    {
      "cell_type": "code",
      "source": [
        "def lower_text(text):\n",
        "    return [item.lower() for item in text ]\n",
        "\n",
        "#split the sentences into words\n",
        "df['review'] = df['review'].apply(lower_text)\n",
        "df = df[['review', 'sentiment']]\n",
        "\n",
        "#map + - to 1 and 0\n",
        "df['sentiment'] = df['sentiment'].map({'positive': 1, 'negative': 0})\n",
        "\n",
        "vocab = set([word for review in df['review'] for word in review])\n",
        "vocab_size = len(vocab)\n",
        "\n",
        "word_to_index = {word: index for index, word in enumerate(vocab)}\n",
        "\n",
        "def encode_review(review):\n",
        "    return [word_to_index[word] for word in review]\n",
        "\n",
        "df['review'] = df['review'].apply(encode_review)\n",
        "\n",
        "max_review_len = max(len(review) for review in df['review'])\n",
        "\n",
        "df['review'] = df['review'].apply(lambda x: x + [0]*(max_review_len-len(x)))\n",
        "\n",
        "\n"
      ],
      "metadata": {
        "id": "VcM6BtT3Clfn"
      },
      "execution_count": null,
      "outputs": []
    },
    {
      "cell_type": "code",
      "source": [
        "class reviewsDataset(torch.utils.data.Dataset):\n",
        "    def __init__(self, data):\n",
        "        self.texts = data['review'].values\n",
        "        self.labels = data['sentiment'].values\n",
        "\n",
        "    def __len__(self):\n",
        "        return len(self.texts)\n",
        "\n",
        "    def __getitem__(self, idx):\n",
        "        text = self.texts[idx]\n",
        "        label = self.labels[idx]\n",
        "        return torch.tensor(text, dtype=torch.long), torch.tensor(label, dtype=torch.float32)\n",
        "\n",
        "train_df, test_df = train_test_split(df, test_size=0.2, random_state=42)\n",
        "\n",
        "train_dataset = reviewsDataset(train_df)\n",
        "test_dataset = reviewsDataset(test_df)\n",
        "train_loader = torch.utils.data.DataLoader(train_dataset, batch_size=32, shuffle=True)\n",
        "test_loader = torch.utils.data.DataLoader(test_dataset, batch_size=32, shuffle=False)"
      ],
      "metadata": {
        "id": "5QIcuCsbQ4Hj"
      },
      "execution_count": null,
      "outputs": []
    },
    {
      "cell_type": "markdown",
      "source": [
        "TASK 2:\n",
        "------\n",
        " In this task, you will pick a dataset (time-series or any other form of sequential data) and an associated problem that can be solved via sequence models. You must describe why you need sequence models to solve this problem. Include a link to the dataset source. Next, you should pick an RNN framework that you would use to solve this problem (This framework can be in TensorFlow, PyTorch or any other Python Package)."
      ],
      "metadata": {
        "id": "O22JVXQLnAsz"
      }
    },
    {
      "cell_type": "markdown",
      "source": [
        "Task 2 - Part 1: Implementing an RNN Using Pytorch\n",
        "Refrencing this tutorial on the RNN module and embedding: https://www.geeksforgeeks.org/implementing-recurrent-neural-networks-in-pytorch/#steps-to-build-an-rnn\n",
        "\n",
        "The metrics we will use to evaluate will be F1 score and general accuracy as the output is binary (positive or negative)"
      ],
      "metadata": {
        "id": "ro8EH5qinOyd"
      }
    },
    {
      "cell_type": "code",
      "source": [
        "class Rnn(nn.Module):\n",
        "  def __init__(self, hidden_size, output_size, vocab_size):\n",
        "    super(Rnn, self).__init__()\n",
        "    self.rnn = nn.RNN(vocab_size, hidden_size, batch_first=True)\n",
        "    self.fc = nn.Linear(hidden_size, output_size)\n",
        "  def forward(self, x):\n",
        "    x = torch.nn.functional.one_hot(x, num_classes=vocab_size + 1).type(torch.float32)\n",
        "    h0 = torch.zeros(1, x.size(0), self.rnn.hidden_size).to(x.device)\n",
        "    out, _ = self.rnn(x)\n",
        "    out = self.fc(out)\n",
        "    return out"
      ],
      "metadata": {
        "id": "6I-g3klQnSz8"
      },
      "execution_count": null,
      "outputs": []
    },
    {
      "cell_type": "code",
      "source": [
        "hidden_size = 30\n",
        "output_size = 1\n",
        "model = Rnn( hidden_size, output_size, vocab_size + 1)"
      ],
      "metadata": {
        "id": "0FaXYVGAAHZg"
      },
      "execution_count": null,
      "outputs": []
    },
    {
      "cell_type": "code",
      "source": [
        "criterion = nn.MSELoss()\n",
        "optimizer = optim.Adam(model.parameters(), lr=0.001)"
      ],
      "metadata": {
        "id": "-rAJEpHyAef0"
      },
      "execution_count": null,
      "outputs": []
    },
    {
      "cell_type": "code",
      "source": [
        "#training\n",
        "epochs = 10\n",
        "\n",
        "device = torch.device('cuda' if torch.cuda.is_available() else 'cpu')\n",
        "print(device)\n",
        "model.to(device)\n",
        "\n",
        "for epoch in range(epochs):\n",
        "  model.train()\n",
        "  epoch_loss = 0\n",
        "\n",
        "  for reviews, sentiments in train_loader:\n",
        "    reviews, sentiments = reviews.to(device), sentiments.to(device)\n",
        "    outputs = model(torch.tensor(reviews, dtype = torch.int64))\n",
        "    loss = criterion(outputs, sentiments)\n",
        "    optimizer.zero_grad()\n",
        "    loss.backward()\n",
        "    optimizer.step()\n",
        "\n",
        "    epoch_loss += loss.item()\n",
        "\n",
        "  print(f'Epoch {epoch+1}/{epochs}, Loss: {loss.item()}')"
      ],
      "metadata": {
        "colab": {
          "base_uri": "https://localhost:8080/"
        },
        "id": "-VZePWD2JZWS",
        "outputId": "8e0c0d01-f6e0-4345-c944-43367a5360eb"
      },
      "execution_count": null,
      "outputs": [
        {
          "output_type": "stream",
          "name": "stdout",
          "text": [
            "cuda\n",
            "Epoch 1/10, Loss: 0.25097399950027466\n",
            "Epoch 2/10, Loss: 0.2512412965297699\n",
            "Epoch 3/10, Loss: 0.2499472200870514\n",
            "Epoch 4/10, Loss: 0.2514701187610626\n",
            "Epoch 5/10, Loss: 0.2502780556678772\n",
            "Epoch 6/10, Loss: 0.24904213845729828\n",
            "Epoch 7/10, Loss: 0.2476835697889328\n",
            "Epoch 8/10, Loss: 0.2572289705276489\n",
            "Epoch 9/10, Loss: 0.2500298023223877\n",
            "Epoch 10/10, Loss: 0.2501823306083679\n"
          ]
        }
      ]
    },
    {
      "cell_type": "code",
      "source": [
        "model.eval()"
      ],
      "metadata": {
        "colab": {
          "base_uri": "https://localhost:8080/"
        },
        "id": "aKDgp59tSwWa",
        "outputId": "e3a8c3cf-782f-4c3a-d853-b5350d2b09a7"
      },
      "execution_count": null,
      "outputs": [
        {
          "output_type": "execute_result",
          "data": {
            "text/plain": [
              "Rnn(\n",
              "  (rnn): RNN(163, 30, batch_first=True)\n",
              "  (fc): Linear(in_features=30, out_features=1, bias=True)\n",
              ")"
            ]
          },
          "metadata": {},
          "execution_count": 37
        }
      ]
    },
    {
      "cell_type": "code",
      "source": [
        "correct = 0\n",
        "total = 0\n",
        "f1 = 0\n",
        "\n",
        "def precision(y_pred, y_true):\n",
        "  tp = torch.sum((y_pred > 0.5 ) & (y_true == 1)).item()\n",
        "  fp = torch.sum((y_pred > 0.5) & (y_true == 0)).item()\n",
        "  if tp + fp == 0:\n",
        "    return 0\n",
        "  return tp / (tp + fp)\n",
        "\n",
        "def recall(y_pred, y_true):\n",
        "  tp = torch.sum((y_pred > 0.5) & (y_true == 1)).item()\n",
        "  fn = torch.sum((y_pred <=0.5) & (y_true == 1)).item()\n",
        "  if tp + fn == 0:\n",
        "    return 0\n",
        "  return tp / (tp + fn)\n",
        "\n",
        "def F1_score(y_pred, y_true):\n",
        "  precision_val = precision(y_pred, y_true)\n",
        "  recall_val = recall(y_pred, y_true)\n",
        "  if precision_val + recall_val == 0:\n",
        "    return 0\n",
        "  return 2 * (precision_val * recall_val) / (precision_val + recall_val)\n",
        "\n",
        "with torch.no_grad():\n",
        "    for texts, labels in test_loader:\n",
        "        texts = texts.to(device)\n",
        "        labels = labels.to(device)\n",
        "        outputs = model(texts)\n",
        "        _, predicted = torch.max(outputs.data, 1)\n",
        "        total += labels.size(0)\n",
        "        correct += (predicted == labels).sum().item()\n",
        "        f1 += F1_score(predicted, labels)\n",
        "\n",
        "accuracy = 100 * correct / total\n",
        "print(f'Accuracy: {accuracy:.2f}%')\n",
        "print(f'F1 Score: {f1/len(test_loader):.2f}')"
      ],
      "metadata": {
        "colab": {
          "base_uri": "https://localhost:8080/"
        },
        "id": "kkc7I9vMSSOH",
        "outputId": "146ebcc3-cfd3-426d-b4a7-9b6294ee3c3a"
      },
      "execution_count": null,
      "outputs": [
        {
          "output_type": "stream",
          "name": "stdout",
          "text": [
            "Accuracy: 47.18%\n",
            "F1 Score: 0.67\n"
          ]
        }
      ]
    },
    {
      "cell_type": "markdown",
      "source": [
        "Part 2: LSTM and GRU implementation"
      ],
      "metadata": {
        "id": "SpAB5QQzUcOX"
      }
    },
    {
      "cell_type": "code",
      "source": [
        "class LSTM(nn.Module):\n",
        "  def __init__(self, hidden_size, output_size, vocab_size):\n",
        "    super(LSTM, self).__init__()\n",
        "    self.lstm = nn.LSTM(vocab_size, hidden_size, batch_first=True)\n",
        "    self.fc = nn.Linear(hidden_size, output_size)\n",
        "\n",
        "  def forward(self, x):\n",
        "    x = torch.nn.functional.one_hot(x, num_classes=vocab_size + 1).type(torch.float32)\n",
        "    h0 = torch.zeros(1, x.size(0), self.lstm.hidden_size).to(x.device)\n",
        "    out, _ = self.lstm(x)\n",
        "    out = self.fc(out)\n",
        "    return out"
      ],
      "metadata": {
        "id": "JJsPzOX8UwJc"
      },
      "execution_count": null,
      "outputs": []
    },
    {
      "cell_type": "code",
      "source": [
        "class GRU(nn.Module):\n",
        "  def __init__(self, hidden_size, output_size, vocab_size):\n",
        "    super(GRU, self).__init__()\n",
        "    self.gru = nn.GRU(vocab_size, hidden_size, batch_first=True)\n",
        "    self.fc = nn.Linear(hidden_size, output_size)\n",
        "\n",
        "  def forward(self, x):\n",
        "    x = torch.nn.functional.one_hot(x, num_classes=vocab_size + 1).type(torch.float32)\n",
        "    h0 = torch.zeros(1, x.size(0), self.gru.hidden_size).to(x.device)\n",
        "    out, _ = self.gru(x)\n",
        "    out = self.fc(out[:, -1, :])\n",
        "    return out"
      ],
      "metadata": {
        "id": "e4tYX-rTVIuU"
      },
      "execution_count": null,
      "outputs": []
    },
    {
      "cell_type": "code",
      "source": [
        "#training\n",
        "model = LSTM( hidden_size, output_size, vocab_size + 1)\n",
        "epochs = 10\n",
        "\n",
        "device = torch.device('cuda' if torch.cuda.is_available() else 'cpu')\n",
        "print(device)\n",
        "model.to(device)\n",
        "\n",
        "\n",
        "\n",
        "for epoch in range(epochs):\n",
        "  model.train()\n",
        "  epoch_loss = 0\n",
        "\n",
        "  for reviews, sentiments in train_loader:\n",
        "    reviews, sentiments = reviews.to(device), sentiments.to(device)\n",
        "    outputs = model(torch.tensor(reviews, dtype = torch.int64))\n",
        "    loss = criterion(outputs, sentiments)\n",
        "    optimizer.zero_grad()\n",
        "    loss.backward()\n",
        "    optimizer.step()\n",
        "\n",
        "    epoch_loss += loss.item()\n",
        "\n",
        "  print(f'Epoch {epoch+1}/{epochs}, Loss: {loss.item()}')"
      ],
      "metadata": {
        "colab": {
          "base_uri": "https://localhost:8080/"
        },
        "id": "VcNjM_T8Ygho",
        "outputId": "bb680d1b-1c3f-4623-fcb0-d2a9641ec141"
      },
      "execution_count": null,
      "outputs": [
        {
          "output_type": "stream",
          "name": "stdout",
          "text": [
            "cuda\n",
            "Epoch 1/10, Loss: 0.7879716157913208\n",
            "Epoch 2/10, Loss: 0.8289956450462341\n",
            "Epoch 3/10, Loss: 0.7468629479408264\n",
            "Epoch 4/10, Loss: 0.6623174548149109\n",
            "Epoch 5/10, Loss: 0.7451044321060181\n",
            "Epoch 6/10, Loss: 0.9552590847015381\n",
            "Epoch 7/10, Loss: 0.7450563907623291\n",
            "Epoch 8/10, Loss: 0.6198074817657471\n",
            "Epoch 9/10, Loss: 0.6196976900100708\n",
            "Epoch 10/10, Loss: 0.7878618836402893\n"
          ]
        }
      ]
    },
    {
      "cell_type": "code",
      "source": [
        "correct = 0\n",
        "total = 0\n",
        "f1 = 0\n",
        "\n",
        "with torch.no_grad():\n",
        "    for texts, labels in test_loader:\n",
        "        texts = texts.to(device)\n",
        "        labels = labels.to(device)\n",
        "        outputs = model(texts)\n",
        "        _, predicted = torch.max(outputs.data, 1)\n",
        "        total += labels.size(0)\n",
        "        correct += (predicted == labels).sum().item()\n",
        "        f1 += F1_score(predicted, labels)\n",
        "\n",
        "accuracy = 100 * correct / total\n",
        "print(f'Accuracy: {accuracy:.2f}%')\n",
        "print(f'F1 Score: {f1/len(test_loader):.2f}')"
      ],
      "metadata": {
        "colab": {
          "base_uri": "https://localhost:8080/"
        },
        "id": "iBQ-SRpWY48D",
        "outputId": "3e39fdbe-8b90-491d-9de2-d2d3d8fb72fe"
      },
      "execution_count": null,
      "outputs": [
        {
          "output_type": "stream",
          "name": "stdout",
          "text": [
            "Accuracy: 57.53%\n",
            "F1 Score: 0.66\n"
          ]
        }
      ]
    },
    {
      "cell_type": "code",
      "source": [
        "#training\n",
        "model = GRU(hidden_size, output_size, vocab_size + 1)\n",
        "epochs = 10\n",
        "\n",
        "device = torch.device('cuda' if torch.cuda.is_available() else 'cpu')\n",
        "print(device)\n",
        "model.to(device)\n",
        "\n",
        "\n",
        "\n",
        "for epoch in range(epochs):\n",
        "  model.train()\n",
        "  epoch_loss = 0\n",
        "\n",
        "  for reviews, sentiments in train_loader:\n",
        "    reviews, sentiments = reviews.to(device), sentiments.to(device)\n",
        "    outputs = model(torch.tensor(reviews, dtype = torch.int64))\n",
        "    loss = criterion(outputs, sentiments)\n",
        "    optimizer.zero_grad()\n",
        "    loss.backward()\n",
        "    optimizer.step()\n",
        "\n",
        "    epoch_loss += loss.item()\n",
        "\n",
        "  print(f'Epoch {epoch+1}/{epochs}, Loss: {loss.item()}')"
      ],
      "metadata": {
        "colab": {
          "base_uri": "https://localhost:8080/"
        },
        "id": "HnVsLmiLZCFR",
        "outputId": "9ffe7411-eff3-453c-c728-ed5b9d0ab63b"
      },
      "execution_count": null,
      "outputs": [
        {
          "output_type": "stream",
          "name": "stdout",
          "text": [
            "cuda\n",
            "Epoch 1/10, Loss: 0.4872153401374817\n",
            "Epoch 2/10, Loss: 0.5176558494567871\n",
            "Epoch 3/10, Loss: 0.3045724928379059\n",
            "Epoch 4/10, Loss: 0.36545342206954956\n",
            "Epoch 5/10, Loss: 0.7002986669540405\n",
            "Epoch 6/10, Loss: 0.4872153401374817\n",
            "Epoch 7/10, Loss: 0.4872153401374817\n",
            "Epoch 8/10, Loss: 0.5480962991714478\n",
            "Epoch 9/10, Loss: 0.5480962991714478\n",
            "Epoch 10/10, Loss: 0.5785367488861084\n"
          ]
        }
      ]
    },
    {
      "cell_type": "code",
      "source": [
        "correct = 0\n",
        "total = 0\n",
        "f1 = 0\n",
        "\n",
        "with torch.no_grad():\n",
        "    for texts, labels in test_loader:\n",
        "        texts = texts.to(device)\n",
        "        labels = labels.to(device)\n",
        "        outputs = model(texts)\n",
        "        _, predicted = torch.max(outputs.data, 1)\n",
        "        total += labels.size(0)\n",
        "        correct += (predicted == labels).sum().item()\n",
        "        f1 += F1_score(predicted, labels)\n",
        "\n",
        "accuracy = 100 * correct / total\n",
        "print(f'Accuracy: {accuracy:.2f}%')\n",
        "print(f'F1 Score: {f1/len(test_loader):.2f}')"
      ],
      "metadata": {
        "colab": {
          "base_uri": "https://localhost:8080/"
        },
        "id": "dU0d5V9fZCXa",
        "outputId": "6ffb76a2-43b7-40c1-a90a-9fdb30d05a3e"
      },
      "execution_count": null,
      "outputs": [
        {
          "output_type": "stream",
          "name": "stdout",
          "text": [
            "Accuracy: 49.61%\n",
            "F1 Score: 0.00\n"
          ]
        }
      ]
    },
    {
      "cell_type": "markdown",
      "source": [
        "LSTM memory faired the best of of the three implementations as LSTM handles the porblem of the vanishing gradient, and can handle the longer term dependencies in complex sentences better than vanilla RNNs and RNNs with GRU"
      ],
      "metadata": {
        "id": "_yxxQeLMgLuc"
      }
    },
    {
      "cell_type": "markdown",
      "source": [
        "Part 3:\n",
        " Can you use the traditional feed-forward network to solve the same problem. Why or why not?   (Hint: Can time series data be converted to usual features that can be used as input to a feed-forward network?)\n",
        "\n",
        " Yes we can, using vector embeddings, we can capture the relationships between words and their meanings within sentences."
      ],
      "metadata": {
        "id": "2sPJzhojavnj"
      }
    },
    {
      "cell_type": "markdown",
      "source": [
        "Task 3:\n",
        "-----\n",
        "Part 1: implementing word embeddings.\n",
        "\n",
        "I will be using FastText, as it considers how likley two words are to appear in a given context, and can handle out-of-vocabulary words, unlike Word2Vec. GloVe considers global context, unlike FastText, but has no way to account for out-of-vocabulary words. While BERT is computationally costly.\n",
        "\n",
        "Resources used: https://www.geeksforgeeks.org/word-embeddings-using-fasttext/"
      ],
      "metadata": {
        "id": "PIGv659ZbWLc"
      }
    },
    {
      "cell_type": "code",
      "source": [
        "from gensim.models import FastText\n",
        "from gensim.test.utils import common_texts\n",
        "from sklearn.decomposition import PCA"
      ],
      "metadata": {
        "id": "GEbY1ERKBL_F"
      },
      "execution_count": null,
      "outputs": []
    },
    {
      "cell_type": "code",
      "source": [
        "# Example corpus (replace with your own corpus)\n",
        "corpus = common_texts\n",
        "\n",
        "# Training FastText model\n",
        "model = FastText(sentences=corpus, vector_size=100, window=5, min_count=1, workers=4, sg=1)"
      ],
      "metadata": {
        "id": "ISzYPrzVC2ew"
      },
      "execution_count": null,
      "outputs": []
    },
    {
      "cell_type": "markdown",
      "source": [
        "Out-of-vocab words are handled automatically by fasttext"
      ],
      "metadata": {
        "id": "XTF7DwRNT6xt"
      }
    },
    {
      "cell_type": "code",
      "source": [
        "#Input 2 words here:\n",
        "word1 = \"Sahithi\"\n",
        "word2 = \"computer\"\n",
        "\n",
        "embed1 = model.wv[word1]\n",
        "embed2 = model.wv[word2]\n",
        "\n",
        "#printing the vector embeddings\n",
        "print(word1, embed1)\n",
        "print(word2,embed2)\n",
        "\n",
        "\n",
        "print(\"words most similar to\", word1, model.wv.most_similar(word1))\n",
        "print(\"words most similar to\", word2, model.wv.most_similar(word2))\n",
        "\n"
      ],
      "metadata": {
        "colab": {
          "base_uri": "https://localhost:8080/"
        },
        "id": "9PUvNBDIT8XD",
        "outputId": "5d71007b-1cc7-4d70-c6cb-c14ce56d704c"
      },
      "execution_count": null,
      "outputs": [
        {
          "output_type": "stream",
          "name": "stdout",
          "text": [
            "Sahithi [ 6.8399572e-04 -1.0178236e-03  1.4469080e-03  9.9590812e-05\n",
            " -1.5204321e-03  1.5697692e-03  8.7922806e-04 -3.1575951e-04\n",
            "  1.4440817e-03 -1.5502032e-03 -1.9516480e-03  4.2941311e-04\n",
            "  9.5572596e-04 -7.0532446e-04 -4.2427666e-04  5.2066898e-04\n",
            " -1.7215862e-04  1.7316829e-03 -4.9256108e-04 -1.5028018e-04\n",
            "  2.3634225e-04 -3.6528552e-05  7.9110393e-04 -9.4822032e-04\n",
            " -2.5068121e-03 -9.1642793e-04 -3.1150176e-04 -1.0458439e-03\n",
            "  9.5027481e-04  1.4095636e-03  1.6057105e-03  1.5452642e-04\n",
            " -1.4265742e-03 -1.2964047e-04 -2.4064030e-03 -1.8334445e-03\n",
            " -7.5784919e-04 -1.1076125e-03  1.1662082e-03  1.1708462e-03\n",
            " -6.1593845e-04 -5.3710677e-04  4.5584078e-04 -1.0537934e-03\n",
            " -1.3054600e-03 -1.2429000e-03 -1.9248211e-04 -1.4393621e-03\n",
            " -1.4299724e-03  6.4332486e-04 -2.2118763e-04 -1.9241449e-04\n",
            " -1.2859468e-03 -2.2608147e-03 -3.0523015e-04 -1.8953698e-03\n",
            " -4.1061445e-04 -2.7529534e-03  1.0337591e-03 -1.3836961e-04\n",
            " -9.0028811e-04 -1.7645393e-03 -6.8631949e-04  4.4199729e-05\n",
            " -6.3364266e-04 -5.8724429e-04 -8.7415113e-04  1.2574853e-04\n",
            " -3.7538726e-04  8.2329439e-04  5.6305254e-04 -2.7349121e-03\n",
            " -1.0247283e-03 -3.5232460e-04 -1.0054111e-03  1.0819521e-03\n",
            " -1.4134113e-03  4.2412107e-04  3.4501216e-05 -6.4857409e-04\n",
            "  1.6037598e-03  8.3761668e-04 -1.5899655e-04  1.0932942e-03\n",
            "  2.0993100e-03 -1.3768463e-03  2.5646072e-03  1.1346613e-03\n",
            " -2.8424324e-03  1.5775451e-03  3.3305382e-04  8.4077916e-04\n",
            "  4.1182645e-04 -7.4616721e-04 -6.4728527e-05 -1.5968621e-03\n",
            "  4.7877815e-04 -2.1646233e-04  6.3154672e-04  1.4665202e-03]\n",
            "computer [ 2.9685666e-04  3.3072010e-04 -8.7743282e-04  3.3974674e-04\n",
            " -5.0194800e-04 -2.0421152e-03 -1.2409585e-03 -1.9403716e-03\n",
            "  1.3458645e-03 -2.4129902e-03  9.1810629e-04 -1.0314244e-03\n",
            " -7.6350034e-04  7.3201641e-05  1.3831169e-03  5.1904464e-04\n",
            " -2.9898007e-04 -1.1948631e-03 -1.1725607e-03 -6.0877239e-04\n",
            " -6.7762885e-04  3.9272508e-04  9.8973374e-05  8.1221922e-04\n",
            "  5.8214430e-04  7.0246187e-04 -7.3612190e-04 -1.0396213e-03\n",
            " -6.2489061e-04 -2.4085796e-04 -1.1932147e-03 -2.6620671e-04\n",
            "  7.3646189e-04 -7.2184735e-04 -1.2750521e-03  1.2425568e-04\n",
            "  3.7789033e-04 -1.3312516e-03 -2.7341598e-03 -3.0504598e-04\n",
            "  9.2881807e-04 -7.2819379e-04 -1.1289539e-03 -3.2218394e-04\n",
            " -2.0561849e-04 -1.0497047e-04 -6.2273885e-04 -1.6138694e-03\n",
            "  9.9103095e-04  9.2174501e-05  3.6866101e-04 -5.3755875e-04\n",
            "  1.1334866e-03  8.7075913e-04 -1.6392255e-03 -8.5598481e-04\n",
            " -6.3172285e-04  6.2362582e-04  8.4005587e-04 -1.1280770e-03\n",
            "  1.2912388e-03 -3.4063371e-04 -1.1784503e-03 -1.6083722e-03\n",
            "  1.5276625e-03  3.0762585e-05 -2.3881905e-05 -7.2689116e-04\n",
            "  1.7333305e-03  8.9337263e-04  3.2672373e-04 -4.6351869e-04\n",
            " -2.3139569e-03 -1.7195115e-03  4.3598001e-04 -4.1184871e-04\n",
            " -1.0671236e-03 -1.0088253e-03 -1.6432530e-03 -1.0512238e-04\n",
            "  1.0194875e-03 -6.2446174e-04 -1.0817207e-03  8.8520825e-04\n",
            " -1.4574496e-03  6.4815575e-04  4.4149806e-04 -1.2449403e-03\n",
            "  3.4934352e-04 -9.8154694e-04 -9.7427930e-04 -1.9841650e-04\n",
            " -1.8970364e-04 -9.8524254e-04  5.7457137e-04  1.9907474e-03\n",
            "  7.2554438e-05  9.9574542e-04 -1.7084853e-03  1.3490210e-03]\n",
            "words most similar to Sahithi [('response', 0.11768724024295807), ('eps', 0.10991305857896805), ('time', 0.07089777290821075), ('interface', 0.05918533354997635), ('survey', 0.0529794916510582), ('human', 0.04610998183488846), ('trees', 0.009524458087980747), ('graph', -0.028114967048168182), ('user', -0.062084898352622986), ('system', -0.06836990267038345)]\n",
            "words most similar to computer [('response', 0.14367616176605225), ('user', 0.09189662337303162), ('system', 0.025597019121050835), ('interface', 0.005904877092689276), ('eps', 0.0026033471804112196), ('survey', -0.0315435566008091), ('minors', -0.03705769404768944), ('trees', -0.04864463210105896), ('human', -0.06686775386333466), ('time', -0.08578939735889435)]\n"
          ]
        }
      ]
    },
    {
      "cell_type": "markdown",
      "source": [
        "Part 2: Cosine Similarity"
      ],
      "metadata": {
        "id": "dImzqpLIUD_N"
      }
    },
    {
      "cell_type": "code",
      "source": [
        "def cosineSimilarity(x,y):\n",
        "    cosi = torch.nn.CosineSimilarity(dim=0)\n",
        "    return cosi(x, y).item()"
      ],
      "metadata": {
        "id": "0mxj2PTZUBqV"
      },
      "execution_count": null,
      "outputs": []
    },
    {
      "cell_type": "code",
      "source": [
        "#input multiple words here\n",
        "words = [\"banana\", \"car\", \"computer\", \"fruit\", \"bus\", \"truck\", \"ship\", \"train\", \"Sahithi\"]"
      ],
      "metadata": {
        "id": "8rzX_e1zUGme"
      },
      "execution_count": null,
      "outputs": []
    },
    {
      "cell_type": "code",
      "source": [
        "vectors = [torch.tensor(model.wv[word]) for word in words]\n",
        "for i in range(len(vectors)):\n",
        "    for j in range(len(vectors)):\n",
        "        if i != j:\n",
        "            print(\"cosine similarity of\", words[i], \"and\", words[j],\":\", cosineSimilarity(vectors[i],vectors[j]))"
      ],
      "metadata": {
        "colab": {
          "base_uri": "https://localhost:8080/"
        },
        "id": "_DtoVfefUJ4n",
        "outputId": "8856f7f5-9553-4338-dbe9-46271f21ca46"
      },
      "execution_count": null,
      "outputs": [
        {
          "output_type": "stream",
          "name": "stdout",
          "text": [
            "cosine similarity of banana and car : -0.023161746561527252\n",
            "cosine similarity of banana and computer : 0.10580457001924515\n",
            "cosine similarity of banana and fruit : -0.07827246189117432\n",
            "cosine similarity of banana and bus : 0.00718080997467041\n",
            "cosine similarity of banana and truck : 0.15925398468971252\n",
            "cosine similarity of banana and ship : 0.010793609544634819\n",
            "cosine similarity of banana and train : -0.15123732388019562\n",
            "cosine similarity of banana and Sahithi : -0.02119796723127365\n",
            "cosine similarity of car and banana : -0.023161746561527252\n",
            "cosine similarity of car and computer : 0.11254262179136276\n",
            "cosine similarity of car and fruit : 0.16221103072166443\n",
            "cosine similarity of car and bus : -0.1409793496131897\n",
            "cosine similarity of car and truck : 0.04577180743217468\n",
            "cosine similarity of car and ship : 0.18721415102481842\n",
            "cosine similarity of car and train : -0.13055387139320374\n",
            "cosine similarity of car and Sahithi : -0.011821269989013672\n",
            "cosine similarity of computer and banana : 0.10580457001924515\n",
            "cosine similarity of computer and car : 0.11254262179136276\n",
            "cosine similarity of computer and fruit : 0.09938741475343704\n",
            "cosine similarity of computer and bus : -0.034987613558769226\n",
            "cosine similarity of computer and truck : -0.030431613326072693\n",
            "cosine similarity of computer and ship : 0.04302529990673065\n",
            "cosine similarity of computer and train : 0.007876971736550331\n",
            "cosine similarity of computer and Sahithi : -0.09741692245006561\n",
            "cosine similarity of fruit and banana : -0.07827246189117432\n",
            "cosine similarity of fruit and car : 0.16221103072166443\n",
            "cosine similarity of fruit and computer : 0.09938741475343704\n",
            "cosine similarity of fruit and bus : 0.031626999378204346\n",
            "cosine similarity of fruit and truck : -0.01066049374639988\n",
            "cosine similarity of fruit and ship : 0.024500399827957153\n",
            "cosine similarity of fruit and train : -0.003655911423265934\n",
            "cosine similarity of fruit and Sahithi : 0.07316753268241882\n",
            "cosine similarity of bus and banana : 0.00718080997467041\n",
            "cosine similarity of bus and car : -0.1409793496131897\n",
            "cosine similarity of bus and computer : -0.034987613558769226\n",
            "cosine similarity of bus and fruit : 0.031626999378204346\n",
            "cosine similarity of bus and truck : -0.0256735198199749\n",
            "cosine similarity of bus and ship : 0.08832196891307831\n",
            "cosine similarity of bus and train : -0.1099969744682312\n",
            "cosine similarity of bus and Sahithi : -0.05955030769109726\n",
            "cosine similarity of truck and banana : 0.15925398468971252\n",
            "cosine similarity of truck and car : 0.04577180743217468\n",
            "cosine similarity of truck and computer : -0.030431613326072693\n",
            "cosine similarity of truck and fruit : -0.01066049374639988\n",
            "cosine similarity of truck and bus : -0.0256735198199749\n",
            "cosine similarity of truck and ship : 0.018265090882778168\n",
            "cosine similarity of truck and train : 0.005497189704328775\n",
            "cosine similarity of truck and Sahithi : 0.13437499105930328\n",
            "cosine similarity of ship and banana : 0.010793609544634819\n",
            "cosine similarity of ship and car : 0.18721415102481842\n",
            "cosine similarity of ship and computer : 0.04302529990673065\n",
            "cosine similarity of ship and fruit : 0.024500399827957153\n",
            "cosine similarity of ship and bus : 0.08832196891307831\n",
            "cosine similarity of ship and truck : 0.018265090882778168\n",
            "cosine similarity of ship and train : -0.016072500497102737\n",
            "cosine similarity of ship and Sahithi : -0.11598975956439972\n",
            "cosine similarity of train and banana : -0.15123732388019562\n",
            "cosine similarity of train and car : -0.13055387139320374\n",
            "cosine similarity of train and computer : 0.007876971736550331\n",
            "cosine similarity of train and fruit : -0.003655911423265934\n",
            "cosine similarity of train and bus : -0.1099969744682312\n",
            "cosine similarity of train and truck : 0.005497189704328775\n",
            "cosine similarity of train and ship : -0.016072500497102737\n",
            "cosine similarity of train and Sahithi : 0.03636181727051735\n",
            "cosine similarity of Sahithi and banana : -0.02119796723127365\n",
            "cosine similarity of Sahithi and car : -0.011821269989013672\n",
            "cosine similarity of Sahithi and computer : -0.09741692245006561\n",
            "cosine similarity of Sahithi and fruit : 0.07316753268241882\n",
            "cosine similarity of Sahithi and bus : -0.05955030769109726\n",
            "cosine similarity of Sahithi and truck : 0.13437499105930328\n",
            "cosine similarity of Sahithi and ship : -0.11598975956439972\n",
            "cosine similarity of Sahithi and train : 0.03636181727051735\n"
          ]
        }
      ]
    },
    {
      "cell_type": "code",
      "source": [
        "vectors = torch.stack(vectors).numpy()  # Stack tensors and convert to NumPy\n",
        "pca = PCA(n_components = 2)\n",
        "components = pca.fit_transform(vectors)\n"
      ],
      "metadata": {
        "id": "4luUMezLULQB"
      },
      "execution_count": null,
      "outputs": []
    },
    {
      "cell_type": "code",
      "source": [
        "plt.scatter(components[:, 0], components[:, 1])\n",
        "for i, label in enumerate(words):\n",
        "    plt.annotate(label, (components[i][0], components[i][1]), textcoords=\"offset points\", xytext=(0,5), ha='center')"
      ],
      "metadata": {
        "colab": {
          "base_uri": "https://localhost:8080/",
          "height": 431
        },
        "id": "3O6n6c9qUOLi",
        "outputId": "e8b2ae4f-682f-49f8-bea0-880a18bbd54d"
      },
      "execution_count": null,
      "outputs": [
        {
          "data": {
            "image/png": "[encoded data removed]",
            "text/plain": [
              "<Figure size 640x480 with 1 Axes>"
            ]
          },
          "metadata": {},
          "output_type": "display_data"
        }
      ]
    },
    {
      "cell_type": "code",
      "source": [],
      "metadata": {
        "id": "65D5FyHuUQJf"
      },
      "execution_count": null,
      "outputs": []
    },
    {
      "cell_type": "markdown",
      "source": [
        "Part 3"
      ],
      "metadata": {
        "id": "LuMuNxayWPWP"
      }
    },
    {
      "cell_type": "code",
      "source": [
        "def euclidean_distance(x, y):\n",
        "  return torch.cdist(x,y,p=2)\n"
      ],
      "metadata": {
        "id": "ekt9for2WRUj"
      },
      "execution_count": null,
      "outputs": []
    },
    {
      "cell_type": "markdown",
      "source": [
        "Unlike cosine similarity, euclidean distance captures the magnitude of the difference between the vectors"
      ],
      "metadata": {
        "id": "FoUwEE3QWvwJ"
      }
    },
    {
      "cell_type": "code",
      "source": [
        "def visualize_dissimilarity(words, metric):\n",
        "  vectors = [torch.tensor(model.wv[word]) for word in words]\n",
        "  vectors = torch.stack(vectors)\n",
        "  distances = None\n",
        "  if metric == 'cosine':\n",
        "    distances = torch.cdist(vectors, vectors, p=2)\n",
        "  elif metric == 'euclidean':\n",
        "    distances = euclidean_distance(vectors, vectors)\n",
        "\n",
        "\n",
        "  sns.heatmap(distances, xticklabels=words, yticklabels=words, cmap='viridis')\n",
        "  plt.title(\"Similarity Heatmap\")\n",
        "  plt.show()\n",
        "\n",
        "  for i, word in enumerate(words):\n",
        "    dists = distances[i]\n",
        "    sorted_indexes = np.argsort(dists)\n",
        "    print(\"ranking for\", word)\n",
        "    ct= 1\n",
        "    for index in sorted_indexes[1::]:\n",
        "      print(ct, words[index])\n",
        "      ct+=1\n",
        "\n"
      ],
      "metadata": {
        "id": "SZnxOF9QYycx"
      },
      "execution_count": null,
      "outputs": []
    },
    {
      "cell_type": "code",
      "source": [
        "visualize_dissimilarity(words, 'cosine')\n"
      ],
      "metadata": {
        "colab": {
          "base_uri": "https://localhost:8080/",
          "height": 1000
        },
        "id": "Eg6bHfeHeb8o",
        "outputId": "e2332346-4b61-4f9a-8dca-a881d04c2b8b"
      },
      "execution_count": null,
      "outputs": [
        {
          "output_type": "display_data",
          "data": {
            "text/plain": [
              "<Figure size 640x480 with 2 Axes>"
            ],
            "image/png": "[encoded data removed]"
          },
          "metadata": {}
        },
        {
          "output_type": "stream",
          "name": "stdout",
          "text": [
            "ranking for banana\n",
            "1 computer\n",
            "2 Sahithi\n",
            "3 truck\n",
            "4 fruit\n",
            "5 train\n",
            "6 ship\n",
            "7 car\n",
            "8 bus\n",
            "ranking for car\n",
            "1 computer\n",
            "2 Sahithi\n",
            "3 fruit\n",
            "4 banana\n",
            "5 truck\n",
            "6 ship\n",
            "7 train\n",
            "8 bus\n",
            "ranking for computer\n",
            "1 Sahithi\n",
            "2 banana\n",
            "3 fruit\n",
            "4 truck\n",
            "5 train\n",
            "6 ship\n",
            "7 car\n",
            "8 bus\n",
            "ranking for fruit\n",
            "1 computer\n",
            "2 Sahithi\n",
            "3 banana\n",
            "4 truck\n",
            "5 train\n",
            "6 ship\n",
            "7 car\n",
            "8 bus\n",
            "ranking for bus\n",
            "1 computer\n",
            "2 Sahithi\n",
            "3 banana\n",
            "4 fruit\n",
            "5 truck\n",
            "6 ship\n",
            "7 train\n",
            "8 car\n",
            "ranking for truck\n",
            "1 Sahithi\n",
            "2 computer\n",
            "3 banana\n",
            "4 fruit\n",
            "5 train\n",
            "6 ship\n",
            "7 car\n",
            "8 bus\n",
            "ranking for ship\n",
            "1 computer\n",
            "2 banana\n",
            "3 Sahithi\n",
            "4 truck\n",
            "5 fruit\n",
            "6 train\n",
            "7 car\n",
            "8 bus\n",
            "ranking for train\n",
            "1 computer\n",
            "2 Sahithi\n",
            "3 truck\n",
            "4 banana\n",
            "5 fruit\n",
            "6 ship\n",
            "7 car\n",
            "8 bus\n",
            "ranking for Sahithi\n",
            "1 computer\n",
            "2 banana\n",
            "3 truck\n",
            "4 fruit\n",
            "5 train\n",
            "6 ship\n",
            "7 car\n",
            "8 bus\n"
          ]
        }
      ]
    },
    {
      "cell_type": "code",
      "source": [
        "visualize_dissimilarity(words, 'euclidean')\n"
      ],
      "metadata": {
        "colab": {
          "base_uri": "https://localhost:8080/",
          "height": 1000
        },
        "id": "verH4Mj8fclL",
        "outputId": "30ebe4bf-29ef-46c6-d64e-605885d604f4"
      },
      "execution_count": null,
      "outputs": [
        {
          "output_type": "display_data",
          "data": {
            "text/plain": [
              "<Figure size 640x480 with 2 Axes>"
            ],
            "image/png": "[encoded data removed]"
          },
          "metadata": {}
        },
        {
          "output_type": "stream",
          "name": "stdout",
          "text": [
            "ranking for banana\n",
            "1 computer\n",
            "2 Sahithi\n",
            "3 truck\n",
            "4 fruit\n",
            "5 train\n",
            "6 ship\n",
            "7 car\n",
            "8 bus\n",
            "ranking for car\n",
            "1 computer\n",
            "2 Sahithi\n",
            "3 fruit\n",
            "4 banana\n",
            "5 truck\n",
            "6 ship\n",
            "7 train\n",
            "8 bus\n",
            "ranking for computer\n",
            "1 Sahithi\n",
            "2 banana\n",
            "3 fruit\n",
            "4 truck\n",
            "5 train\n",
            "6 ship\n",
            "7 car\n",
            "8 bus\n",
            "ranking for fruit\n",
            "1 computer\n",
            "2 Sahithi\n",
            "3 banana\n",
            "4 truck\n",
            "5 train\n",
            "6 ship\n",
            "7 car\n",
            "8 bus\n",
            "ranking for bus\n",
            "1 computer\n",
            "2 Sahithi\n",
            "3 banana\n",
            "4 fruit\n",
            "5 truck\n",
            "6 ship\n",
            "7 train\n",
            "8 car\n",
            "ranking for truck\n",
            "1 Sahithi\n",
            "2 computer\n",
            "3 banana\n",
            "4 fruit\n",
            "5 train\n",
            "6 ship\n",
            "7 car\n",
            "8 bus\n",
            "ranking for ship\n",
            "1 computer\n",
            "2 banana\n",
            "3 Sahithi\n",
            "4 truck\n",
            "5 fruit\n",
            "6 train\n",
            "7 car\n",
            "8 bus\n",
            "ranking for train\n",
            "1 computer\n",
            "2 Sahithi\n",
            "3 truck\n",
            "4 banana\n",
            "5 fruit\n",
            "6 ship\n",
            "7 car\n",
            "8 bus\n",
            "ranking for Sahithi\n",
            "1 computer\n",
            "2 banana\n",
            "3 truck\n",
            "4 fruit\n",
            "5 train\n",
            "6 ship\n",
            "7 car\n",
            "8 bus\n"
          ]
        }
      ]
    }
  ]
}